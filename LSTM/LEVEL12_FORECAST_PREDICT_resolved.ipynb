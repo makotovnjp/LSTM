{
 "cells": [
  {
   "cell_type": "code",
   "execution_count": 1,
   "metadata": {},
   "outputs": [],
   "source": [
    "import pandas as pd\n",
    "import numpy as np\n",
    "from pandas.core import resample\n",
    "import tensorflow as tf\n",
    "import matplotlib.pyplot as plt\n",
    "%matplotlib inline\n",
    "\n",
    "\n",
    "tf.reset_default_graph()\n",
    "pd.set_option('display.expand_frame_repr', False)\n",
    "pd.set_option('max_colwidth', 800)\n",
    "pd.set_option('display.max_columns', 800)\n",
    "\n",
    "#本件の問題はcreate_datasetにあります。\n",
    "def create_dataset(dataset, look_back=1):\n",
    "    dataX, dataY = [], []\n",
    "    for i in range(len(dataset)-look_back +1): # 修正箇所1\n",
    "        xset = []\n",
    "        for j in range(dataset.shape[1]):\n",
    "            a = dataset[i:(i+look_back), j]\n",
    "            xset.append(a)\n",
    "#         dataY.append(dataset[i + look_back, ])      #修正箇所2\n",
    "        dataX.append(xset)\n",
    "    return np.array(dataX), np.array(dataY)"
   ]
  },
  {
   "cell_type": "code",
   "execution_count": 2,
   "metadata": {},
   "outputs": [
    {
     "name": "stderr",
     "output_type": "stream",
     "text": [
      "Using TensorFlow backend.\n"
     ]
    }
   ],
   "source": [
    "from keras.models import load_model\n",
    "\n",
    "#model.reset_states()\n",
    "model = load_model(\"level12_model.h5\")\n",
    "#model = load_model(\"modelGBPJPY4H.h5\")\n",
    "\n",
    "\n",
    "import pickle\n",
    "scaler = pickle.load(open('level12_model.pkl', 'rb'))\n",
    "#scaler = pickle.load(open('modelGBPJPY4H.pkl', 'rb'))"
   ]
  },
  {
   "cell_type": "code",
   "execution_count": 3,
   "metadata": {},
   "outputs": [],
   "source": [
    "# 為替予測\n",
    "\n",
    "input_output_columns = 5\n",
    "look_back=8                # model の設定と同じに\n",
    "#number_of_historydata = 40\n",
    "\n",
    "\n",
    "\n",
    "filename = './csv/LEVEL12.csv'\n",
    "\n",
    "#ファイルを読み込む\n",
    "df_csv = pd.read_csv(filename,\n",
    "#                nrows=100000,\n",
    "                usecols=['Date','Week',\n",
    "                        'Open','High','Low','Close','Volume','Profit','HighLowDiff','OpenRelativePosition','CloseRelativePosition',\n",
    "                        'RCIs','RCIm','RCIl','ADXdm','ADXdp','ADXadx','MACD','MACDsig'],\n",
    "                dtype={ 'Date': str,\n",
    "                        'Week':float,\n",
    "                        'Open':float,'High':float,'Low':float,'Close':float,'Volume':float,'Profit':float,\n",
    "                        'HighLowDiff':float,'OpenRelativePosition':float,'CloseRelativePosition':float,\n",
    "                        'RCIs':float,'RCIm':float,'RCIl':float,'ADXdm':float,'ADXdp':float,'ADXadx':float,'MACD':float,'MACDsig':float},\n",
    "                parse_dates=[0]\n",
    "            ).sort_values(by='Date', ascending=True)"
   ]
  },
  {
   "cell_type": "code",
   "execution_count": 4,
   "metadata": {},
   "outputs": [],
   "source": [
    "df_csv.index = df_csv['Date']\n",
    "df = df_csv[df_csv.index.year>=2000]\n",
    "df.sort_index(ascending=True)\n",
    "\n",
    "df.dropna(inplace=True) #2つ以上のNanは削除。inplaceは自身を書き換え"
   ]
  },
  {
   "cell_type": "code",
   "execution_count": 5,
   "metadata": {},
   "outputs": [],
   "source": [
    "dataframe = df.loc[:,['Open','High','Low','Close','ADXadx','HighLowDiff','OpenRelativePosition','CloseRelativePosition']].dropna()\n",
    "#dataframe = dataframe[-number_of_historydata:] # 最後の方のデータを使う"
   ]
  },
  {
   "cell_type": "code",
   "execution_count": 6,
   "metadata": {},
   "outputs": [
    {
     "data": {
      "text/plain": [
       "(720, 8)"
      ]
     },
     "execution_count": 6,
     "metadata": {},
     "output_type": "execute_result"
    }
   ],
   "source": [
    "# predict 用データをコピーし、float64へ。同じエリアへ scaler-fitする\n",
    "dataset = dataframe.values\n",
    "dataset = dataset.astype('float64')\n",
    "dataset = scaler.transform(dataset)\n",
    "dataset.shape"
   ]
  },
  {
   "cell_type": "code",
   "execution_count": 7,
   "metadata": {},
   "outputs": [
    {
     "name": "stdout",
     "output_type": "stream",
     "text": [
      "                     Open  High  Low  Close  ADXadx  HighLowDiff  OpenRelativePosition  CloseRelativePosition\n",
      "Date                                                                                                         \n",
      "2010-06-18 04:00:00   5.0   5.0  5.0    5.0     5.0          5.0                   5.0                    5.0\n",
      "2010-06-18 08:00:00   4.0   4.0  4.0    4.0     4.0          4.0                   4.0                    4.0\n",
      "2010-06-18 12:00:00   3.0   3.0  3.0    3.0     3.0          3.0                   3.0                    3.0\n",
      "2010-06-18 16:00:00   2.0   2.0  2.0    2.0     2.0          2.0                   2.0                    2.0\n",
      "2010-06-18 20:00:00   1.0   1.0  1.0    1.0     1.0          1.0                   1.0                    1.0\n"
     ]
    }
   ],
   "source": [
    "print(dataframe[-5:])\n"
   ]
  },
  {
   "cell_type": "code",
   "execution_count": 8,
   "metadata": {
    "scrolled": true
   },
   "outputs": [],
   "source": [
    "#dataframe.info()"
   ]
  },
  {
   "cell_type": "code",
   "execution_count": 9,
   "metadata": {},
   "outputs": [],
   "source": [
    "# LEVEL12 では使わない \n",
    "# HighLowDiff,OpenRelativePosition,CloseRelativePosition を再計算\n",
    "#result_predicate_scaled[-1,5]=result_predicate_scaled[-1,1]-result_predicate_scaled[-1,2]\n",
    "#result_predicate_scaled[-1,6]=((2*(result_predicate_scaled[-1,0]))-result_predicate_scaled[-1,1]-result_predicate_scaled[-1,2])/(result_predicate_scaled[-1,1]-(result_predicate_scaled[-1,2]))\n",
    "#result_predicate_scaled[-1,7]=((2*(result_predicate_scaled[-1,3]))-result_predicate_scaled[-1,1]-result_predicate_scaled[-1,2])/(result_predicate_scaled[-1,1]-(result_predicate_scaled[-1,2]))\n",
    "#print(result_predicate_scaled[-1:])"
   ]
  },
  {
   "cell_type": "code",
   "execution_count": 10,
   "metadata": {},
   "outputs": [
    {
     "name": "stdout",
     "output_type": "stream",
     "text": [
      "------ 過去のデータを抽出 datasetは既に標準値化済み ------\n",
      "(20, 8)\n",
      "(0, 8)\n"
     ]
    },
    {
     "data": {
      "image/png": "[encoded data removed]",
      "text/plain": [
       "<matplotlib.figure.Figure at 0x11df1e828>"
      ]
     },
     "metadata": {},
     "output_type": "display_data"
    }
   ],
   "source": [
    "input_bars_for_predicate = 20  #　この先何本分を予測するか。\n",
    "\n",
    "print('------ 過去のデータを抽出 datasetは既に標準値化済み ------')\n",
    "dataset_input = dataset[input_bars_for_predicate*-1:]\n",
    "print(dataset_input.shape)\n",
    "\n",
    "\n",
    "future_result = np.empty((0,len(dataset_input[0])))\n",
    "print(future_result.shape)\n",
    "\n",
    "plt.plot(dataset_input[-input_bars_for_predicate:,0])\n",
    "plt.show()\n"
   ]
  },
  {
   "cell_type": "code",
   "execution_count": 11,
   "metadata": {
    "scrolled": false
   },
   "outputs": [
    {
     "name": "stdout",
     "output_type": "stream",
     "text": [
      "(13, 5)\n",
      "\n",
      "------ 予測のために与える値(標準値化後) ------\n",
      "(20, 8)\n",
      "[ 0.41666667  0.33333333  0.25        0.16666667  0.08333333]\n",
      "------ 予測値(標準値) ------\n",
      "(13, 5)\n",
      "[ 0.33424968  0.25169045  0.16806665  0.08439684  0.        ]\n",
      "(13, 8)\n",
      "(13, 5)\n",
      "\n",
      "------ 予測のために与える値(標準値化後) ------\n",
      "(20, 8)\n",
      "[ 0.33333333  0.25        0.16666667  0.08333333  0.        ]\n",
      "------ 予測値(標準値) ------\n",
      "(13, 5)\n",
      "[ 0.25169045  0.16806665  0.08439684  0.          0.0846979 ]\n",
      "(13, 8)\n",
      "(13, 5)\n",
      "\n",
      "------ 予測のために与える値(標準値化後) ------\n",
      "(20, 8)\n",
      "[ 0.25        0.16666667  0.08333333  0.          0.0846979 ]\n",
      "------ 予測値(標準値) ------\n",
      "(13, 5)\n",
      "[ 0.16806665  0.08439684  0.          0.08469781  0.16800249]\n",
      "(13, 8)\n",
      "(13, 5)\n",
      "\n",
      "------ 予測のために与える値(標準値化後) ------\n",
      "(20, 8)\n",
      "[ 0.16666667  0.08333333  0.          0.0846979   0.16800249]\n",
      "------ 予測値(標準値) ------\n",
      "(13, 5)\n",
      "[ 0.08439684  0.          0.08469781  0.16800252  0.25038892]\n",
      "(13, 8)\n",
      "(13, 5)\n",
      "\n",
      "------ 予測のために与える値(標準値化後) ------\n",
      "(20, 8)\n",
      "[ 0.08333333  0.          0.0846979   0.16800249  0.25038892]\n",
      "------ 予測値(標準値) ------\n",
      "(13, 5)\n",
      "[ 0.          0.08469781  0.16800252  0.25038892  0.33470759]\n",
      "(13, 8)\n",
      "(13, 5)\n",
      "\n",
      "------ 予測のために与える値(標準値化後) ------\n",
      "(20, 8)\n",
      "[ 0.          0.0846979   0.16800249  0.25038892  0.33470759]\n",
      "------ 予測値(標準値) ------\n",
      "(13, 5)\n",
      "[ 0.08469781  0.16800252  0.25038892  0.33470756  0.41699949]\n",
      "(13, 8)\n",
      "(13, 5)\n",
      "\n",
      "------ 予測のために与える値(標準値化後) ------\n",
      "(20, 8)\n",
      "[ 0.0846979   0.16800249  0.25038892  0.33470759  0.41699949]\n",
      "------ 予測値(標準値) ------\n",
      "(13, 5)\n",
      "[ 0.16800252  0.25038892  0.33470756  0.41699949  0.50127465]\n",
      "(13, 8)\n",
      "(13, 5)\n",
      "\n",
      "------ 予測のために与える値(標準値化後) ------\n",
      "(20, 8)\n",
      "[ 0.16800249  0.25038892  0.33470759  0.41699949  0.50127465]\n",
      "------ 予測値(標準値) ------\n",
      "(13, 5)\n",
      "[ 0.25038892  0.33470756  0.41699949  0.50127465  0.58273959]\n",
      "(13, 8)\n",
      "(13, 5)\n",
      "\n",
      "------ 予測のために与える値(標準値化後) ------\n",
      "(20, 8)\n",
      "[ 0.25038892  0.33470759  0.41699949  0.50127465  0.58273959]\n",
      "------ 予測値(標準値) ------\n",
      "(13, 5)\n",
      "[ 0.33470756  0.41699949  0.50127465  0.58273959  0.66702849]\n",
      "(13, 8)\n",
      "(13, 5)\n",
      "\n",
      "------ 予測のために与える値(標準値化後) ------\n",
      "(20, 8)\n",
      "[ 0.33470759  0.41699949  0.50127465  0.58273959  0.66702849]\n",
      "------ 予測値(標準値) ------\n",
      "(13, 5)\n",
      "[ 0.41699949  0.50127465  0.58273959  0.66702849  0.74903685]\n",
      "(13, 8)\n",
      "(13, 5)\n",
      "\n",
      "------ 予測のために与える値(標準値化後) ------\n",
      "(20, 8)\n",
      "[ 0.41699949  0.50127465  0.58273959  0.66702849  0.74903685]\n",
      "------ 予測値(標準値) ------\n",
      "(13, 5)\n",
      "[ 0.50127465  0.58273959  0.66702849  0.74903679  0.83305275]\n",
      "(13, 8)\n",
      "(13, 5)\n",
      "\n",
      "------ 予測のために与える値(標準値化後) ------\n",
      "(20, 8)\n",
      "[ 0.50127465  0.58273959  0.66702849  0.74903685  0.83305275]\n",
      "------ 予測値(標準値) ------\n",
      "(13, 5)\n",
      "[ 0.58273959  0.66702849  0.74903679  0.83305275  0.91550946]\n",
      "(13, 8)\n",
      "(13, 5)\n",
      "\n",
      "------ 予測のために与える値(標準値化後) ------\n",
      "(20, 8)\n",
      "[ 0.58273959  0.66702849  0.74903685  0.83305275  0.91550946]\n",
      "------ 予測値(標準値) ------\n",
      "(13, 5)\n",
      "[ 0.66702849  0.74903679  0.83305275  0.91550958  1.        ]\n",
      "(13, 8)\n",
      "(13, 5)\n",
      "\n",
      "------ 予測のために与える値(標準値化後) ------\n",
      "(20, 8)\n",
      "[ 0.66702849  0.74903685  0.83305275  0.91550946  1.        ]\n",
      "------ 予測値(標準値) ------\n",
      "(13, 5)\n",
      "[ 0.74903679  0.83305275  0.91550958  1.          0.91620755]\n",
      "(13, 8)\n",
      "(13, 5)\n",
      "\n",
      "------ 予測のために与える値(標準値化後) ------\n",
      "(20, 8)\n",
      "[ 0.74903685  0.83305275  0.91550946  1.          0.91620755]\n",
      "------ 予測値(標準値) ------\n",
      "(13, 5)\n",
      "[ 0.83305275  0.91550958  1.          0.91620761  0.8335374 ]\n",
      "(13, 8)\n",
      "(13, 5)\n",
      "\n",
      "------ 予測のために与える値(標準値化後) ------\n",
      "(20, 8)\n",
      "[ 0.83305275  0.91550946  1.          0.91620755  0.8335374 ]\n",
      "------ 予測値(標準値) ------\n",
      "(13, 5)\n",
      "[ 0.91550958  1.          0.91620761  0.83353734  0.75023198]\n",
      "(13, 8)\n",
      "(13, 5)\n",
      "\n",
      "------ 予測のために与える値(標準値化後) ------\n",
      "(20, 8)\n",
      "[ 0.91550946  1.          0.91620755  0.8335374   0.75023198]\n",
      "------ 予測値(標準値) ------\n",
      "(13, 5)\n",
      "[ 1.          0.91620761  0.83353734  0.75023204  0.66810131]\n",
      "(13, 8)\n",
      "(13, 5)\n",
      "\n",
      "------ 予測のために与える値(標準値化後) ------\n",
      "(20, 8)\n",
      "[ 1.          0.91620755  0.8335374   0.75023198  0.66810131]\n",
      "------ 予測値(標準値) ------\n",
      "(13, 5)\n",
      "[ 0.91620761  0.83353734  0.75023204  0.66810137  0.58575404]\n",
      "(13, 8)\n",
      "(13, 5)\n",
      "\n",
      "------ 予測のために与える値(標準値化後) ------\n",
      "(20, 8)\n",
      "[ 0.91620755  0.8335374   0.75023198  0.66810131  0.58575404]\n",
      "------ 予測値(標準値) ------\n",
      "(13, 5)\n",
      "[ 0.83353734  0.75023204  0.66810137  0.58575404  0.50182819]\n",
      "(13, 8)\n",
      "(13, 5)\n",
      "\n",
      "------ 予測のために与える値(標準値化後) ------\n",
      "(20, 8)\n",
      "[ 0.8335374   0.75023198  0.66810131  0.58575404  0.50182819]\n",
      "------ 予測値(標準値) ------\n",
      "(13, 5)\n",
      "[ 0.75023204  0.66810137  0.58575404  0.50182825  0.41988271]\n",
      "(13, 8)\n"
     ]
    }
   ],
   "source": [
    "\n",
    "for i in range(0,input_bars_for_predicate):\n",
    "    dataset_tmp,dataset_nouse = create_dataset(dataset_input,look_back)\n",
    "    predict_tmp = model.predict(dataset_tmp) #,batch_size=1,steps=None)\n",
    "    \n",
    "    print(predict_tmp.shape)\n",
    "    \n",
    "    print('')\n",
    "    print('------ 予測のために与える値(標準値化後) ------')\n",
    "    print(dataset_input.shape)\n",
    "    print(dataset_input[-5:,0])\n",
    "\n",
    "    print('------ 予測値(標準値) ------')\n",
    "    print(predict_tmp.shape)\n",
    "    print(predict_tmp[-5:,0])\n",
    "    result_for_scale = np.hstack([predict_tmp, np.zeros([predict_tmp.shape[0],len(dataset_input[0])-input_output_columns ])]) #右へN列0追加\n",
    "    print(result_for_scale.shape)\n",
    "\n",
    "    # 予測値をデータとしていれられるよう、足らない右Ｎ（3列）を作る。 0列目と同じ値（行は同じ数字になるはず）\n",
    "    result_for_scale[-1,5] = result_for_scale[-1,0] \n",
    "    result_for_scale[-1,6] = result_for_scale[-1,0] \n",
    "    result_for_scale[-1,7] = result_for_scale[-1,0] \n",
    "\n",
    "    # 次の予測のための準備：先頭を消し\n",
    "    dataset_input = np.delete(dataset_input,0,axis=0)\n",
    "    # 次の予測のための準備：末尾に予測値をセット\n",
    "    dataset_input = np.vstack((dataset_input,result_for_scale[-1]))\n",
    "\n",
    "\n"
   ]
  },
  {
   "cell_type": "code",
   "execution_count": 12,
   "metadata": {},
   "outputs": [
    {
     "name": "stdout",
     "output_type": "stream",
     "text": [
      " 予測値から予測したデータ → これが全く形が似ない!!!\n"
     ]
    },
    {
     "data": {
      "image/png": "[encoded data removed]",
      "text/plain": [
       "<matplotlib.figure.Figure at 0x109d04e48>"
      ]
     },
     "metadata": {},
     "output_type": "display_data"
    },
    {
     "name": "stdout",
     "output_type": "stream",
     "text": [
      " 40件の過去データ＋20件の予測値から予測したデータ\n"
     ]
    },
    {
     "data": {
      "image/png": "[encoded data removed]",
      "text/plain": [
       "<matplotlib.figure.Figure at 0x11e04eeb8>"
      ]
     },
     "metadata": {},
     "output_type": "display_data"
    }
   ],
   "source": [
    "\n",
    "# plot用に過去データ＋予測値（20本）を追加して　invert    \n",
    "last_result_scale = dataset_input[input_bars_for_predicate*-1:,]\n",
    "concat_dataset = np.vstack((dataset,last_result_scale))\n",
    "last_result = scaler.inverse_transform(concat_dataset)\n",
    "\n",
    "\n",
    "print(' 予測値から予測したデータ → これが全く形が似ない!!!')\n",
    "\n",
    "plt.plot(dataset_input)\n",
    "#plt.plot(concat_dataset[-50:])\n",
    "plt.show()\n",
    "\n",
    "print(' 40件の過去データ＋20件の予測値から予測したデータ')\n",
    "#plt.plot(dataset_input)\n",
    "plt.plot(concat_dataset[-60:])\n",
    "plt.show()\n"
   ]
  },
  {
   "cell_type": "code",
   "execution_count": null,
   "metadata": {},
   "outputs": [],
   "source": []
  },
  {
   "cell_type": "code",
   "execution_count": null,
   "metadata": {},
   "outputs": [],
   "source": []
  }
 ],
 "metadata": {
  "kernelspec": {
   "display_name": "Python 3",
   "language": "python",
   "name": "python3"
  },
  "language_info": {
   "codemirror_mode": {
    "name": "ipython",
    "version": 3
   },
   "file_extension": ".py",
   "mimetype": "text/x-python",
   "name": "python",
   "nbconvert_exporter": "python",
   "pygments_lexer": "ipython3",
   "version": "3.6.4"
  }
 },
 "nbformat": 4,
 "nbformat_minor": 2
}
